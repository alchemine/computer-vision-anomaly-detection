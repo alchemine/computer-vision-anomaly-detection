{
 "cells": [
  {
   "cell_type": "markdown",
   "id": "4f963541",
   "metadata": {
    "pycharm": {
     "name": "#%% md\n"
    }
   },
   "source": [
    "# 1. Load libraries"
   ]
  },
  {
   "cell_type": "code",
   "execution_count": 2,
   "id": "ad173ae1",
   "metadata": {
    "pycharm": {
     "name": "#%%\n"
    }
   },
   "outputs": [],
   "source": [
    "import warnings\n",
    "warnings.filterwarnings('ignore')\n",
    "\n",
    "from glob import glob\n",
    "import pandas as pd\n",
    "import numpy as np\n",
    "from tqdm import tqdm\n",
    "import cv2\n",
    "\n",
    "import os\n",
    "import timm\n",
    "import random\n",
    "\n",
    "import torch\n",
    "from torch.utils.data import Dataset, DataLoader\n",
    "import torch.nn as nn\n",
    "import torchvision.transforms as transforms\n",
    "from sklearn.metrics import f1_score, accuracy_score\n",
    "import time\n",
    "\n",
    "device = torch.device('cuda')\n",
    "\n",
    "from dask import delayed, compute\n",
    "from dask.diagnostics import ProgressBar"
   ]
  },
  {
   "cell_type": "markdown",
   "id": "7a06f6ad",
   "metadata": {
    "pycharm": {
     "name": "#%% md\n"
    }
   },
   "source": [
    "# 2. Load dataset"
   ]
  },
  {
   "cell_type": "code",
   "execution_count": 3,
   "id": "dc53c609",
   "metadata": {
    "pycharm": {
     "name": "#%%\n"
    }
   },
   "outputs": [],
   "source": [
    "train_png = sorted(glob('open/train/*.png'))\n",
    "test_png  = sorted(glob('open/test/*.png'))\n",
    "\n",
    "train_y = pd.read_csv('open/train_df.csv')\n",
    "train_labels = train_y['label']\n",
    "label_unique = sorted(np.unique(train_labels))\n",
    "label_unique = dict(zip(label_unique, range(len(label_unique))))\n",
    "train_labels = [label_unique[k] for k in train_labels]"
   ]
  },
  {
   "cell_type": "code",
   "execution_count": 4,
   "id": "298bb1c1",
   "metadata": {
    "pycharm": {
     "name": "#%%\n"
    }
   },
   "outputs": [],
   "source": [
    "def img_load(path):\n",
    "    img = cv2.imread(path)[:,:,::-1]\n",
    "    return cv2.resize(img, (512, 512))  # (512, 512, 3)"
   ]
  },
  {
   "cell_type": "code",
   "execution_count": 5,
   "id": "4ec87abd",
   "metadata": {
    "pycharm": {
     "name": "#%%\n"
    }
   },
   "outputs": [
    {
     "name": "stdout",
     "output_type": "stream",
     "text": [
      "[########################################] | 100% Completed | 18.1s\n",
      "[########################################] | 100% Completed | 10.1s\n"
     ]
    }
   ],
   "source": [
    "tasks = [delayed(img_load)(m) for m in train_png]\n",
    "with ProgressBar():\n",
    "    train_imgs = compute(*tasks, scheduler='processes')\n",
    "\n",
    "tasks = [delayed(img_load)(m) for m in test_png]\n",
    "with ProgressBar():\n",
    "    test_imgs = compute(*tasks, scheduler='processes')"
   ]
  },
  {
   "cell_type": "code",
   "execution_count": 22,
   "id": "3057d376",
   "metadata": {
    "pycharm": {
     "name": "#%%\n"
    }
   },
   "outputs": [],
   "source": [
    "class Custom_dataset(Dataset):\n",
    "    def __init__(self, img_paths, labels, mode='train'):\n",
    "        self.img_paths = img_paths\n",
    "        self.labels    = labels\n",
    "        self.mode      = mode\n",
    "    def __len__(self):\n",
    "        return len(self.img_paths)\n",
    "    def __getitem__(self, idx):\n",
    "        img = self.img_paths[idx]\n",
    "        if self.mode == 'train':\n",
    "            augmentation = random.randint(0, 2)  # [0, 1, 2] 중 하나\n",
    "            if augmentation == 1:\n",
    "                img = img[::-1].copy()\n",
    "            elif augmentation == 2:\n",
    "                img = img[:, ::-1].copy()\n",
    "        img = transforms.ToTensor()(img)\n",
    "        if self.mode == 'test':\n",
    "            pass\n",
    "        \n",
    "        label = self.labels[idx]\n",
    "        return img, label\n",
    "\n",
    "class Network(nn.Module):\n",
    "    def __init__(self):\n",
    "        super(Network, self).__init__()\n",
    "        self.model = timm.create_model('efficientnet_b0', pretrained=True, num_classes=88)\n",
    "    def forward(self, x):\n",
    "        return self.model(x)"
   ]
  },
  {
   "cell_type": "markdown",
   "id": "2e90ddcf",
   "metadata": {
    "pycharm": {
     "name": "#%% md\n"
    }
   },
   "source": [
    "# 3. Training & Evaluation"
   ]
  },
  {
   "cell_type": "markdown",
   "id": "dbe30ff6",
   "metadata": {
    "pycharm": {
     "name": "#%% md\n"
    }
   },
   "source": [
    "## 3.1 Training"
   ]
  },
  {
   "cell_type": "code",
   "execution_count": 23,
   "id": "1b428246",
   "metadata": {
    "pycharm": {
     "name": "#%%\n"
    }
   },
   "outputs": [],
   "source": [
    "batch_size = 32\n",
    "epochs     = 25"
   ]
  },
  {
   "cell_type": "code",
   "execution_count": 27,
   "id": "78420ef6",
   "metadata": {
    "pycharm": {
     "name": "#%%\n"
    }
   },
   "outputs": [],
   "source": [
    "train_dataset = Custom_dataset(np.array(train_imgs), np.array(train_labels), mode='train')\n",
    "train_loader  = DataLoader(train_dataset, shuffle=True, batch_size=batch_size, pin_memory=True)\n",
    "\n",
    "test_dataset  = Custom_dataset(np.array(test_imgs), np.array(['tmp']*len(test_imgs)), mode='test')\n",
    "test_loader   = DataLoader(test_dataset, shuffle=False, batch_size=batch_size, pin_memory=True)"
   ]
  },
  {
   "cell_type": "code",
   "execution_count": 34,
   "id": "3a2c13e7",
   "metadata": {
    "pycharm": {
     "name": "#%%\n"
    }
   },
   "outputs": [
    {
     "name": "stdout",
     "output_type": "stream",
     "text": [
      "epoch     : 1/25 \t\t time : 50s/1188s\n",
      "TRAIN loss: 1.03063 \t\t   f1 : 0.21377\n",
      "epoch     : 2/25 \t\t time : 50s/1145s\n",
      "TRAIN loss: 0.58518 \t\t   f1 : 0.34015\n",
      "epoch     : 3/25 \t\t time : 50s/1090s\n",
      "TRAIN loss: 0.40728 \t\t   f1 : 0.50303\n",
      "epoch     : 4/25 \t\t time : 49s/1019s\n",
      "TRAIN loss: 0.31436 \t\t   f1 : 0.58622\n",
      "epoch     : 5/25 \t\t time : 49s/979s\n",
      "TRAIN loss: 0.26344 \t\t   f1 : 0.62194\n",
      "epoch     : 6/25 \t\t time : 50s/945s\n",
      "TRAIN loss: 0.20804 \t\t   f1 : 0.72114\n",
      "epoch     : 7/25 \t\t time : 49s/879s\n",
      "TRAIN loss: 0.20026 \t\t   f1 : 0.75674\n",
      "epoch     : 8/25 \t\t time : 50s/844s\n",
      "TRAIN loss: 0.19013 \t\t   f1 : 0.75369\n",
      "epoch     : 9/25 \t\t time : 48s/772s\n",
      "TRAIN loss: 0.14704 \t\t   f1 : 0.81496\n",
      "epoch     : 10/25 \t\t time : 49s/733s\n",
      "TRAIN loss: 0.11201 \t\t   f1 : 0.84493\n",
      "epoch     : 11/25 \t\t time : 49s/689s\n",
      "TRAIN loss: 0.11730 \t\t   f1 : 0.86175\n",
      "epoch     : 12/25 \t\t time : 49s/637s\n",
      "TRAIN loss: 0.11042 \t\t   f1 : 0.86318\n",
      "epoch     : 13/25 \t\t time : 48s/580s\n",
      "TRAIN loss: 0.09942 \t\t   f1 : 0.86859\n",
      "epoch     : 14/25 \t\t time : 49s/539s\n",
      "TRAIN loss: 0.08612 \t\t   f1 : 0.88339\n",
      "epoch     : 15/25 \t\t time : 49s/488s\n",
      "TRAIN loss: 0.08480 \t\t   f1 : 0.89297\n",
      "epoch     : 16/25 \t\t time : 49s/439s\n",
      "TRAIN loss: 0.08254 \t\t   f1 : 0.88578\n",
      "epoch     : 17/25 \t\t time : 48s/388s\n",
      "TRAIN loss: 0.05675 \t\t   f1 : 0.91871\n",
      "epoch     : 18/25 \t\t time : 49s/340s\n",
      "TRAIN loss: 0.05731 \t\t   f1 : 0.92679\n",
      "epoch     : 19/25 \t\t time : 49s/297s\n",
      "TRAIN loss: 0.08490 \t\t   f1 : 0.90037\n",
      "epoch     : 20/25 \t\t time : 50s/248s\n",
      "TRAIN loss: 0.14975 \t\t   f1 : 0.84488\n",
      "epoch     : 21/25 \t\t time : 49s/196s\n",
      "TRAIN loss: 0.13454 \t\t   f1 : 0.85667\n",
      "epoch     : 22/25 \t\t time : 48s/145s\n",
      "TRAIN loss: 0.05675 \t\t   f1 : 0.91637\n",
      "epoch     : 23/25 \t\t time : 49s/98s\n",
      "TRAIN loss: 0.05937 \t\t   f1 : 0.93087\n",
      "epoch     : 24/25 \t\t time : 49s/49s\n",
      "TRAIN loss: 0.03783 \t\t   f1 : 0.95438\n",
      "epoch     : 25/25 \t\t time : 49s/0s\n",
      "TRAIN loss: 0.03259 \t\t   f1 : 0.96759\n"
     ]
    }
   ],
   "source": [
    "def score_function(real, pred):\n",
    "    return f1_score(real, pred, average='macro')\n",
    "\n",
    "model     = Network().to(device)\n",
    "optimizer = torch.optim.Adam(model.parameters(), lr=1e-3)\n",
    "criterion = nn.CrossEntropyLoss()\n",
    "scaler    = torch.cuda.amp.GradScaler()\n",
    "\n",
    "best = 0\n",
    "for epoch in range(epochs):\n",
    "    start = time.time()\n",
    "    \n",
    "    train_loss = 0\n",
    "    train_pred = []\n",
    "    train_y    = []\n",
    "    model.train()\n",
    "    \n",
    "    for batch in train_loader:\n",
    "        optimizer.zero_grad()\n",
    "        x = torch.tensor(batch[0], dtype=torch.float32, device=device)\n",
    "        y = torch.tensor(batch[1], dtype=torch.long, device=device)\n",
    "        with torch.cuda.amp.autocast():\n",
    "            pred = model(x)\n",
    "        loss = criterion(pred, y)\n",
    "        \n",
    "        scaler.scale(loss).backward()\n",
    "        scaler.step(optimizer)\n",
    "        scaler.update()\n",
    "        \n",
    "        train_loss += loss.item() / len(train_loader)\n",
    "        train_pred += pred.argmax(1).detach().cpu().numpy().tolist()\n",
    "        train_y    += y.detach().cpu().numpy().tolist()\n",
    "    train_f1 = score_function(train_y, train_pred)\n",
    "    TIME = time.time() - start\n",
    "    print(f'epoch     : {epoch+1}/{epochs} \\t\\t time : {TIME:.0f}s/{TIME*(epochs-epoch-1):.0f}s')\n",
    "    print(f'TRAIN loss: {train_loss:.5f}   \\t\\t f1 : {train_f1:.5f}')"
   ]
  },
  {
   "cell_type": "markdown",
   "id": "2ec9052a",
   "metadata": {
    "pycharm": {
     "name": "#%% md\n"
    }
   },
   "source": [
    "## 3.2 Evaluation"
   ]
  },
  {
   "cell_type": "code",
   "execution_count": 35,
   "id": "e3fac8e8",
   "metadata": {
    "pycharm": {
     "name": "#%%\n"
    }
   },
   "outputs": [],
   "source": [
    "model.eval()\n",
    "f_pred = []\n",
    "\n",
    "with torch.no_grad():\n",
    "    for batch in test_loader:\n",
    "        x = torch.tensor(batch[0], dtype=torch.float32, device=device)\n",
    "        with torch.cuda.amp.autocast():\n",
    "            pred = model(x)\n",
    "        f_pred.extend(pred.argmax(1).detach().cpu().numpy().tolist())"
   ]
  },
  {
   "cell_type": "code",
   "execution_count": 40,
   "id": "401110fb",
   "metadata": {
    "pycharm": {
     "name": "#%%\n"
    }
   },
   "outputs": [],
   "source": [
    "label_decoder = {v: k for k, v in label_unique.items()}\n",
    "f_result      = [label_decoder[result] for result in f_pred]"
   ]
  },
  {
   "cell_type": "markdown",
   "id": "55ef97f1",
   "metadata": {
    "pycharm": {
     "name": "#%% md\n"
    }
   },
   "source": [
    "# 4. Submission"
   ]
  },
  {
   "cell_type": "code",
   "execution_count": 41,
   "id": "c8fcd55c",
   "metadata": {
    "pycharm": {
     "name": "#%%\n"
    }
   },
   "outputs": [
    {
     "data": {
      "text/html": [
       "<div>\n",
       "<style scoped>\n",
       "    .dataframe tbody tr th:only-of-type {\n",
       "        vertical-align: middle;\n",
       "    }\n",
       "\n",
       "    .dataframe tbody tr th {\n",
       "        vertical-align: top;\n",
       "    }\n",
       "\n",
       "    .dataframe thead th {\n",
       "        text-align: right;\n",
       "    }\n",
       "</style>\n",
       "<table border=\"1\" class=\"dataframe\">\n",
       "  <thead>\n",
       "    <tr style=\"text-align: right;\">\n",
       "      <th></th>\n",
       "      <th>index</th>\n",
       "      <th>label</th>\n",
       "    </tr>\n",
       "  </thead>\n",
       "  <tbody>\n",
       "    <tr>\n",
       "      <th>0</th>\n",
       "      <td>0</td>\n",
       "      <td>tile-glue_strip</td>\n",
       "    </tr>\n",
       "    <tr>\n",
       "      <th>1</th>\n",
       "      <td>1</td>\n",
       "      <td>grid-good</td>\n",
       "    </tr>\n",
       "    <tr>\n",
       "      <th>2</th>\n",
       "      <td>2</td>\n",
       "      <td>transistor-bent_lead</td>\n",
       "    </tr>\n",
       "    <tr>\n",
       "      <th>3</th>\n",
       "      <td>3</td>\n",
       "      <td>cable-missing_cable</td>\n",
       "    </tr>\n",
       "    <tr>\n",
       "      <th>4</th>\n",
       "      <td>4</td>\n",
       "      <td>tile-good</td>\n",
       "    </tr>\n",
       "    <tr>\n",
       "      <th>...</th>\n",
       "      <td>...</td>\n",
       "      <td>...</td>\n",
       "    </tr>\n",
       "    <tr>\n",
       "      <th>2149</th>\n",
       "      <td>2149</td>\n",
       "      <td>tile-gray_stroke</td>\n",
       "    </tr>\n",
       "    <tr>\n",
       "      <th>2150</th>\n",
       "      <td>2150</td>\n",
       "      <td>screw-good</td>\n",
       "    </tr>\n",
       "    <tr>\n",
       "      <th>2151</th>\n",
       "      <td>2151</td>\n",
       "      <td>grid-good</td>\n",
       "    </tr>\n",
       "    <tr>\n",
       "      <th>2152</th>\n",
       "      <td>2152</td>\n",
       "      <td>cable-combined</td>\n",
       "    </tr>\n",
       "    <tr>\n",
       "      <th>2153</th>\n",
       "      <td>2153</td>\n",
       "      <td>zipper-good</td>\n",
       "    </tr>\n",
       "  </tbody>\n",
       "</table>\n",
       "<p>2154 rows × 2 columns</p>\n",
       "</div>"
      ],
      "text/plain": [
       "      index                 label\n",
       "0         0       tile-glue_strip\n",
       "1         1             grid-good\n",
       "2         2  transistor-bent_lead\n",
       "3         3   cable-missing_cable\n",
       "4         4             tile-good\n",
       "...     ...                   ...\n",
       "2149   2149      tile-gray_stroke\n",
       "2150   2150            screw-good\n",
       "2151   2151             grid-good\n",
       "2152   2152        cable-combined\n",
       "2153   2153           zipper-good\n",
       "\n",
       "[2154 rows x 2 columns]"
      ]
     },
     "execution_count": 41,
     "metadata": {},
     "output_type": "execute_result"
    }
   ],
   "source": [
    "submission = pd.read_csv(\"open/sample_submission.csv\")\n",
    "submission['label'] = f_result\n",
    "submission"
   ]
  },
  {
   "cell_type": "code",
   "execution_count": 42,
   "id": "5b687c81",
   "metadata": {
    "pycharm": {
     "name": "#%%\n"
    }
   },
   "outputs": [],
   "source": [
    "submission.to_csv('output/baseline.csv', index=False)"
   ]
  },
  {
   "cell_type": "code",
   "execution_count": 50,
   "id": "85bc200d",
   "metadata": {
    "pycharm": {
     "name": "#%%\n"
    }
   },
   "outputs": [
    {
     "name": "stdout",
     "output_type": "stream",
     "text": [
      "{'isSubmitted': True, 'detail': 'Success'}\n"
     ]
    }
   ],
   "source": [
    "from dacon_submit_api.dacon_submit_api import post_submission_file\n",
    "\n",
    "result = post_submission_file(\n",
    "    'output/baseline.csv',\n",
    "    '137ff236e305f302819b930b3b5b72e948603f23c5249a516c32b536d5187a03', \n",
    "    '235894', \n",
    "    '어스름한 금요일 밤에',\n",
    "    'baseline'\n",
    ")"
   ]
  }
 ],
 "metadata": {
  "kernelspec": {
   "display_name": "Python 3",
   "language": "python",
   "name": "python3"
  },
  "language_info": {
   "codemirror_mode": {
    "name": "ipython",
    "version": 3
   },
   "file_extension": ".py",
   "mimetype": "text/x-python",
   "name": "python",
   "nbconvert_exporter": "python",
   "pygments_lexer": "ipython3",
   "version": "3.8.12"
  }
 },
 "nbformat": 4,
 "nbformat_minor": 5
}