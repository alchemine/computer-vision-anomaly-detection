{
 "cells": [
  {
   "cell_type": "markdown",
   "id": "0add2460",
   "metadata": {},
   "source": [
    "# Experiment4\n",
    "`PatchCore`"
   ]
  },
  {
   "cell_type": "markdown",
   "id": "53e585f7",
   "metadata": {},
   "source": [
    "# 1. Load packages"
   ]
  },
  {
   "cell_type": "code",
   "execution_count": 1,
   "id": "5e02aa5a",
   "metadata": {},
   "outputs": [
    {
     "ename": "ModuleNotFoundError",
     "evalue": "No module named 'tensorflow_probability'",
     "output_type": "error",
     "traceback": [
      "\u001B[0;31m---------------------------------------------------------------------------\u001B[0m",
      "\u001B[0;31mModuleNotFoundError\u001B[0m                       Traceback (most recent call last)",
      "\u001B[0;32m<ipython-input-1-758cbd6d9d0b>\u001B[0m in \u001B[0;36m<module>\u001B[0;34m\u001B[0m\n\u001B[1;32m      8\u001B[0m \u001B[0;32mfrom\u001B[0m \u001B[0mtensorflow\u001B[0m \u001B[0;32mimport\u001B[0m \u001B[0mkeras\u001B[0m\u001B[0;34m\u001B[0m\u001B[0;34m\u001B[0m\u001B[0m\n\u001B[1;32m      9\u001B[0m \u001B[0;32mimport\u001B[0m \u001B[0mtensorflow_addons\u001B[0m \u001B[0;32mas\u001B[0m \u001B[0mtfa\u001B[0m\u001B[0;34m\u001B[0m\u001B[0;34m\u001B[0m\u001B[0m\n\u001B[0;32m---> 10\u001B[0;31m \u001B[0;32mimport\u001B[0m \u001B[0mtensorflow_probability\u001B[0m \u001B[0;32mas\u001B[0m \u001B[0mtfp\u001B[0m\u001B[0;34m\u001B[0m\u001B[0;34m\u001B[0m\u001B[0m\n\u001B[0m\u001B[1;32m     11\u001B[0m \u001B[0;32mimport\u001B[0m \u001B[0msklearn\u001B[0m\u001B[0;34m\u001B[0m\u001B[0;34m\u001B[0m\u001B[0m\n\u001B[1;32m     12\u001B[0m \u001B[0;32mimport\u001B[0m \u001B[0mcv2\u001B[0m\u001B[0;34m\u001B[0m\u001B[0;34m\u001B[0m\u001B[0m\n",
      "\u001B[0;31mModuleNotFoundError\u001B[0m: No module named 'tensorflow_probability'"
     ]
    }
   ],
   "source": [
    "%load_ext autoreload\n",
    "%autoreload 2\n",
    "\n",
    "from analysis_tools.common import *\n",
    "from util import *\n",
    "\n",
    "import tensorflow as tf\n",
    "from tensorflow import keras\n",
    "import tensorflow_addons as tfa\n",
    "import tensorflow_probability as tfp\n",
    "import sklearn\n",
    "import cv2\n",
    "import os\n",
    "\n",
    "np.random.seed(RANDOM_STATE)\n",
    "tf.random.set_seed(RANDOM_STATE)\n",
    "sklearn.random.seed(RANDOM_STATE)\n",
    "\n",
    "for gpu in tf.config.experimental.list_physical_devices('GPU'):\n",
    "    tf.config.experimental.set_memory_growth(gpu, True)\n",
    "    \n",
    "# strategy = tf.distribute.MirroredStrategy()"
   ]
  },
  {
   "cell_type": "markdown",
   "id": "a4329b24",
   "metadata": {},
   "source": [
    "# 2. Load dataset"
   ]
  },
  {
   "cell_type": "markdown",
   "id": "6b80298b",
   "metadata": {},
   "source": [
    "## 2.1 screw"
   ]
  },
  {
   "cell_type": "code",
   "execution_count": 3,
   "id": "dbe8d16a",
   "metadata": {},
   "outputs": [],
   "source": [
    "class_sample = 'screw'"
   ]
  },
  {
   "cell_type": "code",
   "execution_count": 4,
   "id": "af1ff74c",
   "metadata": {},
   "outputs": [],
   "source": [
    "from sklearn.model_selection import train_test_split\n",
    "\n",
    "@delayed\n",
    "def load_img(path, size):\n",
    "    return cv2.resize(cv2.imread(path), (size, size))\n",
    "\n",
    "SIZE        = 128\n",
    "INPUT_SHAPE = (SIZE, SIZE, 3)\n",
    "train_full_data_meta = pd.read_csv(join(PATH.input, 'train_df.csv'), index_col=0)\n",
    "train_full_data_meta = train_full_data_meta.query(f\"`class` == '{class_sample}'\")\n",
    "paths                = train_full_data_meta['file_name']"
   ]
  },
  {
   "cell_type": "code",
   "execution_count": 6,
   "id": "4ffac1bd",
   "metadata": {},
   "outputs": [
    {
     "data": {
      "text/html": [
       "<div>\n",
       "<style scoped>\n",
       "    .dataframe tbody tr th:only-of-type {\n",
       "        vertical-align: middle;\n",
       "    }\n",
       "\n",
       "    .dataframe tbody tr th {\n",
       "        vertical-align: top;\n",
       "    }\n",
       "\n",
       "    .dataframe thead th {\n",
       "        text-align: right;\n",
       "    }\n",
       "</style>\n",
       "<table border=\"1\" class=\"dataframe\">\n",
       "  <thead>\n",
       "    <tr style=\"text-align: right;\">\n",
       "      <th></th>\n",
       "      <th>file_name</th>\n",
       "      <th>class</th>\n",
       "      <th>state</th>\n",
       "      <th>label</th>\n",
       "    </tr>\n",
       "    <tr>\n",
       "      <th>index</th>\n",
       "      <th></th>\n",
       "      <th></th>\n",
       "      <th></th>\n",
       "      <th></th>\n",
       "    </tr>\n",
       "  </thead>\n",
       "  <tbody>\n",
       "    <tr>\n",
       "      <th>7</th>\n",
       "      <td>10007.png</td>\n",
       "      <td>screw</td>\n",
       "      <td>good</td>\n",
       "      <td>screw-good</td>\n",
       "    </tr>\n",
       "    <tr>\n",
       "      <th>19</th>\n",
       "      <td>10019.png</td>\n",
       "      <td>screw</td>\n",
       "      <td>thread_side</td>\n",
       "      <td>screw-thread_side</td>\n",
       "    </tr>\n",
       "    <tr>\n",
       "      <th>35</th>\n",
       "      <td>10035.png</td>\n",
       "      <td>screw</td>\n",
       "      <td>manipulated_front</td>\n",
       "      <td>screw-manipulated_front</td>\n",
       "    </tr>\n",
       "    <tr>\n",
       "      <th>44</th>\n",
       "      <td>10044.png</td>\n",
       "      <td>screw</td>\n",
       "      <td>good</td>\n",
       "      <td>screw-good</td>\n",
       "    </tr>\n",
       "    <tr>\n",
       "      <th>46</th>\n",
       "      <td>10046.png</td>\n",
       "      <td>screw</td>\n",
       "      <td>good</td>\n",
       "      <td>screw-good</td>\n",
       "    </tr>\n",
       "    <tr>\n",
       "      <th>...</th>\n",
       "      <td>...</td>\n",
       "      <td>...</td>\n",
       "      <td>...</td>\n",
       "      <td>...</td>\n",
       "    </tr>\n",
       "    <tr>\n",
       "      <th>4223</th>\n",
       "      <td>14223.png</td>\n",
       "      <td>screw</td>\n",
       "      <td>good</td>\n",
       "      <td>screw-good</td>\n",
       "    </tr>\n",
       "    <tr>\n",
       "      <th>4234</th>\n",
       "      <td>14234.png</td>\n",
       "      <td>screw</td>\n",
       "      <td>good</td>\n",
       "      <td>screw-good</td>\n",
       "    </tr>\n",
       "    <tr>\n",
       "      <th>4246</th>\n",
       "      <td>14246.png</td>\n",
       "      <td>screw</td>\n",
       "      <td>good</td>\n",
       "      <td>screw-good</td>\n",
       "    </tr>\n",
       "    <tr>\n",
       "      <th>4253</th>\n",
       "      <td>14253.png</td>\n",
       "      <td>screw</td>\n",
       "      <td>good</td>\n",
       "      <td>screw-good</td>\n",
       "    </tr>\n",
       "    <tr>\n",
       "      <th>4276</th>\n",
       "      <td>14276.png</td>\n",
       "      <td>screw</td>\n",
       "      <td>good</td>\n",
       "      <td>screw-good</td>\n",
       "    </tr>\n",
       "  </tbody>\n",
       "</table>\n",
       "<p>381 rows × 4 columns</p>\n",
       "</div>"
      ],
      "text/plain": [
       "       file_name  class              state                    label\n",
       "index                                                              \n",
       "7      10007.png  screw               good               screw-good\n",
       "19     10019.png  screw        thread_side        screw-thread_side\n",
       "35     10035.png  screw  manipulated_front  screw-manipulated_front\n",
       "44     10044.png  screw               good               screw-good\n",
       "46     10046.png  screw               good               screw-good\n",
       "...          ...    ...                ...                      ...\n",
       "4223   14223.png  screw               good               screw-good\n",
       "4234   14234.png  screw               good               screw-good\n",
       "4246   14246.png  screw               good               screw-good\n",
       "4253   14253.png  screw               good               screw-good\n",
       "4276   14276.png  screw               good               screw-good\n",
       "\n",
       "[381 rows x 4 columns]"
      ]
     },
     "execution_count": 6,
     "metadata": {},
     "output_type": "execute_result"
    }
   ],
   "source": [
    "train_full_data_meta"
   ]
  },
  {
   "cell_type": "code",
   "execution_count": 32,
   "id": "75ed63ca",
   "metadata": {},
   "outputs": [
    {
     "name": "stderr",
     "output_type": "stream",
     "text": [
      "100%|██████████| 6/6 [00:02<00:00,  2.23it/s]\n"
     ]
    }
   ],
   "source": [
    "from sklearn.model_selection import train_test_split\n",
    "\n",
    "def copy(class_sample, state, data_id, paths, target_dir):\n",
    "    dst_dir = join(target_dir, class_sample, data_id, state)\n",
    "    mkdir(dst_dir)\n",
    "    for path in paths:\n",
    "        shutil.copy(join(PATH.train, path), join(dst_dir, get_name(path)))\n",
    "\n",
    "\n",
    "target_dir = join(PATH.root, 'anomalib', 'datasets', 'MVTec')\n",
    "for state in tqdm(train_full_data_meta['state'].unique()):\n",
    "    paths = [join(PATH.train, name) for name in train_full_data_meta.query(f\"state == '{state}'\")['file_name']]\n",
    "    \n",
    "    if state == 'good':\n",
    "#         paths = paths[:int(len(paths)/3)]\n",
    "        train_paths, test_paths = train_test_split(paths)\n",
    "        for data_id, paths in zip(['train', 'test'], [train_paths, test_paths]):\n",
    "            copy(class_sample, state, data_id, paths, target_dir)\n",
    "    else:\n",
    "        train_paths, test_paths = [], paths\n",
    "        data_id = 'test'\n",
    "        copy(class_sample, state, data_id, paths, target_dir)"
   ]
  },
  {
   "cell_type": "code",
   "execution_count": 31,
   "id": "76af8c32",
   "metadata": {},
   "outputs": [],
   "source": [
    "rmdir(target_dir)"
   ]
  }
 ],
 "metadata": {
  "kernelspec": {
   "display_name": "Python 3",
   "language": "python",
   "name": "python3"
  },
  "language_info": {
   "codemirror_mode": {
    "name": "ipython",
    "version": 3
   },
   "file_extension": ".py",
   "mimetype": "text/x-python",
   "name": "python",
   "nbconvert_exporter": "python",
   "pygments_lexer": "ipython3",
   "version": "3.8.12"
  }
 },
 "nbformat": 4,
 "nbformat_minor": 5
}